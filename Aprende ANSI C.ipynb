{
 "cells": [
  {
   "attachments": {},
   "cell_type": "markdown",
   "metadata": {},
   "source": [
    "<p align=\"center\">\n",
    "    <img src=\"img/c-logo.png\">\n",
    "</p>\n",
    "<h1 align=\"center\"> Aprende ANSI C (C99) </h1>\n",
    "\n",
    "## Prólogo\n",
    "\n",
    "Mira un momento a tu alrededor, no tardarás en percibir al menos uno o dos aparatos electrónicos que utilizas en tu vida diaria. Probablemente lo primero que viste fue tu teléfono inteligente, quizá tu computadora o si eres un aficionado a la tecnología reciente pudiste apreciar tu hermoso *Google Assistant* o *Amazon Alexa*. \n",
    "\n",
    "Lo cierto es que en el año de escritura de esta libreta la tecnología está en todas partes y a día de hoy prácticamente hace todo por nosotros, nos recuerda las cosas importantes que tenemos pendientes, reproducen nuestras melodías favoritas e incluso pueden ayudarnos a monitorear y mejorar nuestra condición física de ser necesario.\n",
    "\n",
    "Si estás leyendo esto es por una razón específica, estás consciente de que esos aparatos que adoras usar no realizan sus tareas a base de magia.\n",
    "\n",
    "Lo cierto es que dichos aparatos necesitan de instrucciones, pues una computadora podría definirse como *\"La cosa mas estúpida del mundo\"*, no sabe que hacer por si sola, solo sabe acatar instrucciones precisas, una a la vez, no hagamos más largo el texto, dichas instrucciones se logran dar mediante los llamados *\"lenguajes de programación\"*, dichos lenguajes siguen un proceso para ser *entendibles* tanto para un humano como una computadora, en nuestro caso utilizaremos el lenguaje de programación C, un lenguaje que podría ser considerado el padre de la tecnología moderna, pues gracias a él podemos disfrutar de cosas como nuestra computadora, celular e incluso nuestros asistentes.\n",
    "\n",
    "Algunas de las tecnologías que utilizamos cuya base es el lenguaje de programación C son:\n",
    "\n",
    "* Los sistemas Operativos de las computadoras. (Windows, Mac Os &  Gnu/Linux)\n",
    "* El sistema operativo de tu celular (Android = Java + Linux [los dos escritos en C])\n",
    "* Tus dispositivos IoT (Los micorcontroladores suelen programarse en C)\n",
    "\n",
    "<p align=\"center\">\n",
    "    <img src=\"img/iot.png\">\n",
    "</p>\n",
    "\n",
    "La razón de esto es simple, C es un lenguaje portable, rápido y robusto. Pero basta de historias y pongámonos a trabajar es hora de aprender ANSI C.\n",
    "\n",
    "## ¿ANSI?\n",
    "\n",
    "Previamente mencionamos que C es un lenguaje portable y en teoría, debería de serlo, desafortunadamente algunos compiladores incluyen funciones o características propias lo cual le resta portabilidad al lenguaje, afortunadamente tenemos al estándar *ANSI* (hoy conocido como *ISO*) el cual establece una serie de rúbricas recomendadas hacia los desarrolladores para facilitar la portabilidad del código.\n",
    "\n",
    "# Preparando el entorno\n",
    "\n",
    "Si queremos programar en C necesitamos preparar nuestra estación de trabajo, en esta sección encontrarás instrucciones para preparar las plataformas más populares.\n",
    "\n",
    "## Microsoft Windows\n",
    "\n",
    "<p align=\"center\">\n",
    "    <img src=\"img/windows.png\" height=\"100px\" width=\"100px\">\n",
    "</p>\n",
    "\n",
    "El compilador `Visual C++` de Microsoft Windows provee un compilador del lenguaje de programación C. Sin embargo su uso no es precisamente recomendado a lo largo de la comunidad de programadores, afortunadamente tenemos a uno de los compiladores más populares en nuestra disposición, para ello necesitamos instalar *Minimalist GNU for Windows* el cual se encuentra [aquí](http://www.mingw.org/).\n",
    "\n",
    "> http://www.mingw.org/\n",
    "\n",
    "1. Entra al sitio web y haz click en el botón de descarga.\n",
    "\n",
    "\n",
    "2. Un archivo de instalación se descargará en tu computadora, ábrelo una vez detmine la descarga.\n",
    "\n",
    "\n"
   ]
  }
 ],
 "metadata": {
  "kernelspec": {
   "display_name": "C",
   "language": "c",
   "name": "c"
  },
  "language_info": {
   "file_extension": ".c",
   "mimetype": "text/plain",
   "name": "c"
  },
  "toc": {
   "base_numbering": 1,
   "nav_menu": {},
   "number_sections": true,
   "sideBar": true,
   "skip_h1_title": false,
   "title_cell": "Table of Contents",
   "title_sidebar": "Contents",
   "toc_cell": false,
   "toc_position": {},
   "toc_section_display": true,
   "toc_window_display": false
  }
 },
 "nbformat": 4,
 "nbformat_minor": 2
}
